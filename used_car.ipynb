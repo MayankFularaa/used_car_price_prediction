{
 "cells": [
  {
   "cell_type": "code",
   "execution_count": 13,
   "metadata": {},
   "outputs": [
    {
     "name": "stdout",
     "output_type": "stream",
     "text": [
      "Data preparation, model training, and saving completed.\n"
     ]
    }
   ],
   "source": [
    "import pandas as pd\n",
    "import numpy as np\n",
    "import pickle\n",
    "from sklearn.ensemble import RandomForestRegressor\n",
    "from sklearn.model_selection import train_test_split\n",
    "from sklearn.preprocessing import StandardScaler, OneHotEncoder,LabelEncoder\n",
    "from sklearn.compose import ColumnTransformer\n",
    "\n",
    "# Load data\n",
    "df = pd.read_csv('./data/cardekho_imputated.csv')\n",
    "\n",
    "# Drop unnecessary columns\n",
    "df.drop('car_name', axis=1, inplace=True)\n",
    "\n",
    "# Independent and dependent variables\n",
    "X = df.drop(['selling_price'], axis=1)\n",
    "y = df['selling_price']\n",
    "\n",
    "# Columns for numerical and categorical features\n",
    "num_features = ['vehicle_age', 'km_driven', 'mileage', 'engine', 'max_power', 'seats']\n",
    "cat_features = ['seller_type', 'fuel_type', 'transmission_type', 'brand', 'model']\n",
    "\n",
    "# Encode categorical features\n",
    "le_brand = LabelEncoder()\n",
    "le_model = LabelEncoder()\n",
    "X['brand'] = le_brand.fit_transform(X['brand'])\n",
    "X['model'] = le_model.fit_transform(X['model'])\n",
    "\n",
    "# Transformers\n",
    "numeric_transformer = StandardScaler()\n",
    "oh_transformer = OneHotEncoder(drop='first')\n",
    "\n",
    "# Fit transformers\n",
    "numeric_transformer.fit(X[num_features])\n",
    "oh_transformer.fit(X[cat_features])\n",
    "\n",
    "# Transform features\n",
    "X_num = numeric_transformer.transform(X[num_features])\n",
    "X_cat = oh_transformer.transform(X[cat_features]).toarray()\n",
    "X_transformed = np.hstack([X_num, X_cat])\n",
    "\n",
    "# Train-test split\n",
    "X_train, X_test, y_train, y_test = train_test_split(X_transformed, y, test_size=0.3, random_state=42)\n",
    "\n",
    "# Train model\n",
    "rf_model = RandomForestRegressor(n_estimators=100, min_samples_split= 2, max_features=8, max_depth= 15,n_jobs=-1)\n",
    "rf_model.fit(X_train, y_train)\n",
    "\n",
    "y_train_pred = rf_model.predict(X_train)\n",
    "y_test_pred = rf_model.predict(X_test)\n",
    "\n",
    "# Save transformers and model\n",
    "# pickle.dump(numeric_transformer, open('numeric_transformer.pkl', 'wb'))\n",
    "# pickle.dump(oh_transformer, open('oh_transformer.pkl', 'wb'))\n",
    "# pickle.dump(rf_model, open('rf_model.pkl', 'wb'))\n",
    "# pickle.dump(le_brand, open('le_brand.pkl', 'wb'))\n",
    "# pickle.dump(le_model, open('le_model.pkl', 'wb'))\n",
    "\n",
    "print(\"Data preparation, model training, and saving completed.\")\n"
   ]
  },
  {
   "cell_type": "code",
   "execution_count": 14,
   "metadata": {},
   "outputs": [],
   "source": [
    "from sklearn.ensemble import RandomForestRegressor\n",
    "from sklearn.metrics import r2_score, mean_absolute_error, mean_squared_error"
   ]
  },
  {
   "cell_type": "code",
   "execution_count": 15,
   "metadata": {},
   "outputs": [],
   "source": [
    "##Create a Function to Evaluate Model\n",
    "def evaluate_model(true, predicted):\n",
    "    mae = mean_absolute_error(true, predicted)\n",
    "    mse = mean_squared_error(true, predicted)\n",
    "    rmse = np.sqrt(mean_squared_error(true, predicted))\n",
    "    r2_square = r2_score(true, predicted)\n",
    "    return mae, rmse, r2_square"
   ]
  },
  {
   "cell_type": "code",
   "execution_count": 16,
   "metadata": {},
   "outputs": [],
   "source": [
    "    # Evaluate Train and Test dataset\n",
    "model_train_mae , model_train_rmse, model_train_r2 = evaluate_model(y_train, y_train_pred)\n",
    "\n",
    "model_test_mae , model_test_rmse, model_test_r2 = evaluate_model(y_test, y_test_pred)"
   ]
  },
  {
   "cell_type": "code",
   "execution_count": 19,
   "metadata": {},
   "outputs": [
    {
     "name": "stdout",
     "output_type": "stream",
     "text": [
      "Model performance for Training set\n",
      "- Root Mean Squared Error: 258409.8957\n",
      "- Mean Absolute Error: 129573.8503\n",
      "- R2 Score: 0.9185\n",
      "----------------------------------\n",
      "Model performance for Test set\n",
      "- Root Mean Squared Error: 321665.3395\n",
      "- Mean Absolute Error: 153796.9345\n",
      "- R2 Score: 0.8624\n"
     ]
    }
   ],
   "source": [
    "print('Model performance for Training set')\n",
    "print(\"- Root Mean Squared Error: {:.4f}\".format(model_train_rmse))\n",
    "print(\"- Mean Absolute Error: {:.4f}\".format(model_train_mae))\n",
    "print(\"- R2 Score: {:.4f}\".format(model_train_r2))\n",
    "\n",
    "print('----------------------------------')\n",
    "    \n",
    "print('Model performance for Test set')\n",
    "print(\"- Root Mean Squared Error: {:.4f}\".format(model_test_rmse))\n",
    "print(\"- Mean Absolute Error: {:.4f}\".format(model_test_mae))\n",
    "print(\"- R2 Score: {:.4f}\".format(model_test_r2))"
   ]
  },
  {
   "cell_type": "code",
   "execution_count": null,
   "metadata": {},
   "outputs": [],
   "source": []
  }
 ],
 "metadata": {
  "kernelspec": {
   "display_name": "Python 3",
   "language": "python",
   "name": "python3"
  },
  "language_info": {
   "codemirror_mode": {
    "name": "ipython",
    "version": 3
   },
   "file_extension": ".py",
   "mimetype": "text/x-python",
   "name": "python",
   "nbconvert_exporter": "python",
   "pygments_lexer": "ipython3",
   "version": "3.12.4"
  }
 },
 "nbformat": 4,
 "nbformat_minor": 2
}
